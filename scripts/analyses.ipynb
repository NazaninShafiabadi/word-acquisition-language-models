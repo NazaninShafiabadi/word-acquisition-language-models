{
 "cells": [
  {
   "cell_type": "code",
   "execution_count": null,
   "metadata": {},
   "outputs": [],
   "source": [
    "import math\n",
    "from typing import List\n",
    "import warnings\n",
    "\n",
    "import pandas as pd\n",
    "import matplotlib.pyplot as plt\n",
    "import nltk\n",
    "from nltk.tokenize import word_tokenize\n",
    "import numpy as np\n",
    "import string\n",
    "\n",
    "warnings.filterwarnings(action='ignore', category=RuntimeWarning)\n",
    "\n",
    "nltk.download('punkt')\n",
    "nltk.download('averaged_perceptron_tagger')"
   ]
  },
  {
   "cell_type": "code",
   "execution_count": 137,
   "metadata": {},
   "outputs": [],
   "source": [
    "def plot_surprisals(words:List[str], surprisals_df):\n",
    "    num_words = len(words)\n",
    "    cols = min(num_words, 3)\n",
    "    rows = math.ceil(num_words / cols)\n",
    "\n",
    "    plt.style.use('ggplot')\n",
    "    fig, axs = plt.subplots(rows, cols, figsize=(cols*3, rows*3))\n",
    "    axs = np.atleast_2d(axs)\n",
    "\n",
    "    for i, word in enumerate(words):   \n",
    "        word_data = surprisals_df[surprisals_df['Token'] == word].iloc[1:]  # mention this\n",
    "        if word_data.empty:\n",
    "            print(f'No data found for the word \"{word}\"')\n",
    "            continue\n",
    "\n",
    "        ax = axs[i//cols, i%cols]\n",
    "        ax.plot(word_data['Steps'], word_data['MeanSurprisal'], marker='o')\n",
    "        ax.set_title(f'\"{word}\"')\n",
    "        ax.set_xlabel('BERT steps (log10)')\n",
    "        ax.set_ylabel('Mean surprisal')\n",
    "        ax.set_xscale('log')\n",
    "        ax.invert_yaxis()\n",
    "\n",
    "    # Remove empty subplots\n",
    "    for j in range(i+1, rows*cols):\n",
    "        fig.delaxes(axs.flatten()[j])\n",
    "\n",
    "    plt.tight_layout()\n",
    "    plt.show()\n"
   ]
  },
  {
   "cell_type": "code",
   "execution_count": 10,
   "metadata": {},
   "outputs": [],
   "source": [
    "wikitext_surprisals = '../sample_data/wikitext/bert_surprisals.txt'\n",
    "chang_bergen_surprisals = '../r_code/tacl_data/lm_data/bert_surprisals.txt'\n",
    "bert_surprisals = pd.read_csv(wikitext_surprisals, delimiter='\\t')"
   ]
  },
  {
   "cell_type": "code",
   "execution_count": 11,
   "metadata": {},
   "outputs": [
    {
     "data": {
      "text/html": [
       "<div>\n",
       "<style scoped>\n",
       "    .dataframe tbody tr th:only-of-type {\n",
       "        vertical-align: middle;\n",
       "    }\n",
       "\n",
       "    .dataframe tbody tr th {\n",
       "        vertical-align: top;\n",
       "    }\n",
       "\n",
       "    .dataframe thead th {\n",
       "        text-align: right;\n",
       "    }\n",
       "</style>\n",
       "<table border=\"1\" class=\"dataframe\">\n",
       "  <thead>\n",
       "    <tr style=\"text-align: right;\">\n",
       "      <th></th>\n",
       "      <th>Token</th>\n",
       "      <th>Steps</th>\n",
       "      <th>MedianRank</th>\n",
       "      <th>MeanSurprisal</th>\n",
       "      <th>StdevSurprisal</th>\n",
       "      <th>Accuracy</th>\n",
       "      <th>NumExamples</th>\n",
       "      <th>MeanSurprisalDiff</th>\n",
       "      <th>StdevSurprisalDiff</th>\n",
       "    </tr>\n",
       "  </thead>\n",
       "  <tbody>\n",
       "    <tr>\n",
       "      <th>0</th>\n",
       "      <td>a</td>\n",
       "      <td>0</td>\n",
       "      <td>3451</td>\n",
       "      <td>14.201838</td>\n",
       "      <td>0.386763</td>\n",
       "      <td>0.000000</td>\n",
       "      <td>512</td>\n",
       "      <td>0.000000</td>\n",
       "      <td>0.000000</td>\n",
       "    </tr>\n",
       "    <tr>\n",
       "      <th>1</th>\n",
       "      <td>a</td>\n",
       "      <td>20000</td>\n",
       "      <td>0</td>\n",
       "      <td>1.452711</td>\n",
       "      <td>1.769657</td>\n",
       "      <td>0.671875</td>\n",
       "      <td>512</td>\n",
       "      <td>-12.749128</td>\n",
       "      <td>1.382895</td>\n",
       "    </tr>\n",
       "    <tr>\n",
       "      <th>2</th>\n",
       "      <td>a</td>\n",
       "      <td>40000</td>\n",
       "      <td>0</td>\n",
       "      <td>1.050805</td>\n",
       "      <td>1.615932</td>\n",
       "      <td>0.773438</td>\n",
       "      <td>512</td>\n",
       "      <td>-0.401906</td>\n",
       "      <td>-0.153725</td>\n",
       "    </tr>\n",
       "    <tr>\n",
       "      <th>3</th>\n",
       "      <td>a</td>\n",
       "      <td>60000</td>\n",
       "      <td>0</td>\n",
       "      <td>0.964041</td>\n",
       "      <td>1.519993</td>\n",
       "      <td>0.789062</td>\n",
       "      <td>512</td>\n",
       "      <td>-0.086764</td>\n",
       "      <td>-0.095940</td>\n",
       "    </tr>\n",
       "    <tr>\n",
       "      <th>4</th>\n",
       "      <td>a</td>\n",
       "      <td>80000</td>\n",
       "      <td>0</td>\n",
       "      <td>0.926614</td>\n",
       "      <td>1.614722</td>\n",
       "      <td>0.787109</td>\n",
       "      <td>512</td>\n",
       "      <td>-0.037427</td>\n",
       "      <td>0.094729</td>\n",
       "    </tr>\n",
       "    <tr>\n",
       "      <th>...</th>\n",
       "      <td>...</td>\n",
       "      <td>...</td>\n",
       "      <td>...</td>\n",
       "      <td>...</td>\n",
       "      <td>...</td>\n",
       "      <td>...</td>\n",
       "      <td>...</td>\n",
       "      <td>...</td>\n",
       "      <td>...</td>\n",
       "    </tr>\n",
       "    <tr>\n",
       "      <th>7129</th>\n",
       "      <td>your</td>\n",
       "      <td>1600000</td>\n",
       "      <td>1</td>\n",
       "      <td>1.894058</td>\n",
       "      <td>2.084364</td>\n",
       "      <td>0.461538</td>\n",
       "      <td>13</td>\n",
       "      <td>-0.144634</td>\n",
       "      <td>0.085364</td>\n",
       "    </tr>\n",
       "    <tr>\n",
       "      <th>7130</th>\n",
       "      <td>your</td>\n",
       "      <td>1700000</td>\n",
       "      <td>0</td>\n",
       "      <td>1.733878</td>\n",
       "      <td>1.960023</td>\n",
       "      <td>0.615385</td>\n",
       "      <td>13</td>\n",
       "      <td>-0.160180</td>\n",
       "      <td>-0.124341</td>\n",
       "    </tr>\n",
       "    <tr>\n",
       "      <th>7131</th>\n",
       "      <td>your</td>\n",
       "      <td>1800000</td>\n",
       "      <td>0</td>\n",
       "      <td>1.719849</td>\n",
       "      <td>2.018352</td>\n",
       "      <td>0.692308</td>\n",
       "      <td>13</td>\n",
       "      <td>-0.014029</td>\n",
       "      <td>0.058329</td>\n",
       "    </tr>\n",
       "    <tr>\n",
       "      <th>7132</th>\n",
       "      <td>your</td>\n",
       "      <td>1900000</td>\n",
       "      <td>0</td>\n",
       "      <td>1.761835</td>\n",
       "      <td>2.017625</td>\n",
       "      <td>0.692308</td>\n",
       "      <td>13</td>\n",
       "      <td>0.041987</td>\n",
       "      <td>-0.000728</td>\n",
       "    </tr>\n",
       "    <tr>\n",
       "      <th>7133</th>\n",
       "      <td>your</td>\n",
       "      <td>2000000</td>\n",
       "      <td>0</td>\n",
       "      <td>1.639908</td>\n",
       "      <td>1.925884</td>\n",
       "      <td>0.692308</td>\n",
       "      <td>13</td>\n",
       "      <td>-0.121928</td>\n",
       "      <td>-0.091741</td>\n",
       "    </tr>\n",
       "  </tbody>\n",
       "</table>\n",
       "<p>7134 rows × 9 columns</p>\n",
       "</div>"
      ],
      "text/plain": [
       "     Token    Steps  MedianRank  MeanSurprisal  StdevSurprisal  Accuracy  \\\n",
       "0        a        0        3451      14.201838        0.386763  0.000000   \n",
       "1        a    20000           0       1.452711        1.769657  0.671875   \n",
       "2        a    40000           0       1.050805        1.615932  0.773438   \n",
       "3        a    60000           0       0.964041        1.519993  0.789062   \n",
       "4        a    80000           0       0.926614        1.614722  0.787109   \n",
       "...    ...      ...         ...            ...             ...       ...   \n",
       "7129  your  1600000           1       1.894058        2.084364  0.461538   \n",
       "7130  your  1700000           0       1.733878        1.960023  0.615385   \n",
       "7131  your  1800000           0       1.719849        2.018352  0.692308   \n",
       "7132  your  1900000           0       1.761835        2.017625  0.692308   \n",
       "7133  your  2000000           0       1.639908        1.925884  0.692308   \n",
       "\n",
       "      NumExamples  MeanSurprisalDiff  StdevSurprisalDiff  \n",
       "0             512           0.000000            0.000000  \n",
       "1             512         -12.749128            1.382895  \n",
       "2             512          -0.401906           -0.153725  \n",
       "3             512          -0.086764           -0.095940  \n",
       "4             512          -0.037427            0.094729  \n",
       "...           ...                ...                 ...  \n",
       "7129           13          -0.144634            0.085364  \n",
       "7130           13          -0.160180           -0.124341  \n",
       "7131           13          -0.014029            0.058329  \n",
       "7132           13           0.041987           -0.000728  \n",
       "7133           13          -0.121928           -0.091741  \n",
       "\n",
       "[7134 rows x 9 columns]"
      ]
     },
     "execution_count": 11,
     "metadata": {},
     "output_type": "execute_result"
    }
   ],
   "source": [
    "bert_surprisals = (bert_surprisals\n",
    "    .sort_values(['Token', 'Steps'])\n",
    "    .groupby('Token')\n",
    "    .apply(lambda x: x.assign(MeanSurprisalDiff = x['MeanSurprisal'].diff().fillna(0), \n",
    "                              StdevSurprisalDiff = x['StdevSurprisal'].diff().fillna(0)))\n",
    "    .reset_index(drop=True))\n",
    "\n",
    "bert_surprisals.insert(0, 'Token', bert_surprisals.pop('Token'))\n",
    "bert_surprisals"
   ]
  },
  {
   "cell_type": "code",
   "execution_count": 12,
   "metadata": {},
   "outputs": [
    {
     "name": "stdout",
     "output_type": "stream",
     "text": [
      "[('run', 'VB')]\n"
     ]
    },
    {
     "name": "stderr",
     "output_type": "stream",
     "text": [
      "[nltk_data] Downloading package averaged_perceptron_tagger to\n",
      "[nltk_data]     /home/nshafiabadi/nltk_data...\n",
      "[nltk_data]   Package averaged_perceptron_tagger is already up-to-\n",
      "[nltk_data]       date!\n"
     ]
    }
   ],
   "source": [
    "import nltk\n",
    "\n",
    "nltk.download('averaged_perceptron_tagger')\n",
    "\n",
    "word = 'run'\n",
    "pos = nltk.pos_tag([word])\n",
    "print(pos)"
   ]
  },
  {
   "cell_type": "code",
   "execution_count": 13,
   "metadata": {},
   "outputs": [],
   "source": [
    "# def plot_df(word, df):\n",
    "#     word_data = df[df['Token'] == word]\n",
    "#     word_data.plot(x='Steps', y='MeanSurprisal', logx=True, title=f'\"{word}\"').set_ylim(df['MeanSurprisal'].max(), df['MeanSurprisal'].min())\n",
    "\n",
    "\n",
    "# plot_df('your', bert_surprisals)"
   ]
  },
  {
   "cell_type": "markdown",
   "metadata": {},
   "source": [
    "### Most vs least frequent words"
   ]
  },
  {
   "cell_type": "code",
   "execution_count": 138,
   "metadata": {},
   "outputs": [
    {
     "data": {
      "image/png": "[encoded data removed]",
      "text/plain": [
       "<Figure size 648x432 with 6 Axes>"
      ]
     },
     "metadata": {},
     "output_type": "display_data"
    }
   ],
   "source": [
    "frequent = bert_surprisals[bert_surprisals['NumExamples'] == 512]\n",
    "non_frequent = bert_surprisals[bert_surprisals['NumExamples'] == 8]\n",
    "\n",
    "plot_surprisals(\n",
    "    frequent['Token'].drop_duplicates().sample(3).tolist() + non_frequent['Token'].drop_duplicates().sample(3).tolist(), \n",
    "    bert_surprisals\n",
    "    )"
   ]
  },
  {
   "cell_type": "code",
   "execution_count": 139,
   "metadata": {},
   "outputs": [
    {
     "data": {
      "image/png": "[encoded data removed]",
      "text/plain": [
       "<Figure size 216x216 with 1 Axes>"
      ]
     },
     "metadata": {},
     "output_type": "display_data"
    }
   ],
   "source": [
    "plot_surprisals(['walk'], bert_surprisals)"
   ]
  },
  {
   "cell_type": "code",
   "execution_count": 16,
   "metadata": {},
   "outputs": [
    {
     "data": {
      "image/png": "[encoded data removed]",
      "text/plain": [
       "<Figure size 432x288 with 1 Axes>"
      ]
     },
     "metadata": {},
     "output_type": "display_data"
    }
   ],
   "source": [
    "import seaborn as sns\n",
    "from matplotlib import pyplot as plt\n",
    "\n",
    "def plot_with_sns(word, df):\n",
    "    plt.style.use('ggplot')\n",
    "    word_data = df[df['Token'] == word].iloc[1:]\n",
    "    ax = sns.pointplot(data=word_data,\n",
    "                x='Steps',\n",
    "                y='MeanSurprisal')\n",
    "    ax.set_xscale('log')\n",
    "    ax.invert_yaxis()\n",
    "\n",
    "plot_with_sns('walk', bert_surprisals)"
   ]
  },
  {
   "cell_type": "markdown",
   "metadata": {},
   "source": [
    "### Corpus-level surprisals "
   ]
  },
  {
   "cell_type": "code",
   "execution_count": 17,
   "metadata": {},
   "outputs": [
    {
     "data": {
      "text/plain": [
       "(6.5, 2.884962031996347)"
      ]
     },
     "execution_count": 17,
     "metadata": {},
     "output_type": "execute_result"
    },
    {
     "data": {
      "image/png": "[encoded data removed]",
      "text/plain": [
       "<Figure size 432x288 with 1 Axes>"
      ]
     },
     "metadata": {},
     "output_type": "display_data"
    }
   ],
   "source": [
    "# for each step, average surprisal across all words\n",
    "\n",
    "avg_surprisals = bert_surprisals.groupby('Steps')['MeanSurprisal'].mean().reset_index()\n",
    "avg_surprisals.plot(x='Steps', y='MeanSurprisal', logx=True).set_ylim(6.5, avg_surprisals['MeanSurprisal'].min())"
   ]
  },
  {
   "cell_type": "code",
   "execution_count": 18,
   "metadata": {},
   "outputs": [],
   "source": [
    "# plot_surprisals(bert_surprisals['Token'].drop_duplicates().tolist(), bert_surprisals)"
   ]
  },
  {
   "cell_type": "markdown",
   "metadata": {},
   "source": [
    "### Top 5 highest absolute diffs"
   ]
  },
  {
   "cell_type": "code",
   "execution_count": 19,
   "metadata": {},
   "outputs": [
    {
     "data": {
      "text/html": [
       "<div>\n",
       "<style scoped>\n",
       "    .dataframe tbody tr th:only-of-type {\n",
       "        vertical-align: middle;\n",
       "    }\n",
       "\n",
       "    .dataframe tbody tr th {\n",
       "        vertical-align: top;\n",
       "    }\n",
       "\n",
       "    .dataframe thead th {\n",
       "        text-align: right;\n",
       "    }\n",
       "</style>\n",
       "<table border=\"1\" class=\"dataframe\">\n",
       "  <thead>\n",
       "    <tr style=\"text-align: right;\">\n",
       "      <th></th>\n",
       "      <th>Token</th>\n",
       "      <th>Steps</th>\n",
       "      <th>MedianRank</th>\n",
       "      <th>MeanSurprisal</th>\n",
       "      <th>StdevSurprisal</th>\n",
       "      <th>Accuracy</th>\n",
       "      <th>NumExamples</th>\n",
       "      <th>MeanSurprisalDiff</th>\n",
       "      <th>StdevSurprisalDiff</th>\n",
       "    </tr>\n",
       "  </thead>\n",
       "  <tbody>\n",
       "    <tr>\n",
       "      <th>6004</th>\n",
       "      <td>the</td>\n",
       "      <td>20000</td>\n",
       "      <td>0</td>\n",
       "      <td>0.781342</td>\n",
       "      <td>1.324811</td>\n",
       "      <td>0.886719</td>\n",
       "      <td>512</td>\n",
       "      <td>-15.236831</td>\n",
       "      <td>0.945859</td>\n",
       "    </tr>\n",
       "    <tr>\n",
       "      <th>6613</th>\n",
       "      <td>was</td>\n",
       "      <td>20000</td>\n",
       "      <td>0</td>\n",
       "      <td>1.192383</td>\n",
       "      <td>1.659401</td>\n",
       "      <td>0.789062</td>\n",
       "      <td>512</td>\n",
       "      <td>-14.026222</td>\n",
       "      <td>1.327233</td>\n",
       "    </tr>\n",
       "    <tr>\n",
       "      <th>3481</th>\n",
       "      <td>is</td>\n",
       "      <td>20000</td>\n",
       "      <td>0</td>\n",
       "      <td>1.775125</td>\n",
       "      <td>2.488918</td>\n",
       "      <td>0.690141</td>\n",
       "      <td>426</td>\n",
       "      <td>-13.900096</td>\n",
       "      <td>2.059086</td>\n",
       "    </tr>\n",
       "    <tr>\n",
       "      <th>610</th>\n",
       "      <td>be</td>\n",
       "      <td>20000</td>\n",
       "      <td>0</td>\n",
       "      <td>0.894825</td>\n",
       "      <td>1.832280</td>\n",
       "      <td>0.876133</td>\n",
       "      <td>331</td>\n",
       "      <td>-13.769206</td>\n",
       "      <td>1.415900</td>\n",
       "    </tr>\n",
       "    <tr>\n",
       "      <th>1799</th>\n",
       "      <td>did</td>\n",
       "      <td>20000</td>\n",
       "      <td>0</td>\n",
       "      <td>1.840310</td>\n",
       "      <td>2.702644</td>\n",
       "      <td>0.710526</td>\n",
       "      <td>114</td>\n",
       "      <td>-13.755656</td>\n",
       "      <td>2.364045</td>\n",
       "    </tr>\n",
       "  </tbody>\n",
       "</table>\n",
       "</div>"
      ],
      "text/plain": [
       "     Token  Steps  MedianRank  MeanSurprisal  StdevSurprisal  Accuracy  \\\n",
       "6004   the  20000           0       0.781342        1.324811  0.886719   \n",
       "6613   was  20000           0       1.192383        1.659401  0.789062   \n",
       "3481    is  20000           0       1.775125        2.488918  0.690141   \n",
       "610     be  20000           0       0.894825        1.832280  0.876133   \n",
       "1799   did  20000           0       1.840310        2.702644  0.710526   \n",
       "\n",
       "      NumExamples  MeanSurprisalDiff  StdevSurprisalDiff  \n",
       "6004          512         -15.236831            0.945859  \n",
       "6613          512         -14.026222            1.327233  \n",
       "3481          426         -13.900096            2.059086  \n",
       "610           331         -13.769206            1.415900  \n",
       "1799          114         -13.755656            2.364045  "
      ]
     },
     "execution_count": 19,
     "metadata": {},
     "output_type": "execute_result"
    }
   ],
   "source": [
    "highest_abs_diffs = bert_surprisals.loc[bert_surprisals['MeanSurprisalDiff'].abs().nlargest(5).index]\n",
    "highest_abs_diffs"
   ]
  },
  {
   "cell_type": "code",
   "execution_count": 140,
   "metadata": {},
   "outputs": [
    {
     "data": {
      "text/html": [
       "<div>\n",
       "<style scoped>\n",
       "    .dataframe tbody tr th:only-of-type {\n",
       "        vertical-align: middle;\n",
       "    }\n",
       "\n",
       "    .dataframe tbody tr th {\n",
       "        vertical-align: top;\n",
       "    }\n",
       "\n",
       "    .dataframe thead th {\n",
       "        text-align: right;\n",
       "    }\n",
       "</style>\n",
       "<table border=\"1\" class=\"dataframe\">\n",
       "  <thead>\n",
       "    <tr style=\"text-align: right;\">\n",
       "      <th></th>\n",
       "      <th>Token</th>\n",
       "      <th>Steps</th>\n",
       "      <th>MedianRank</th>\n",
       "      <th>MeanSurprisal</th>\n",
       "      <th>StdevSurprisal</th>\n",
       "      <th>Accuracy</th>\n",
       "      <th>NumExamples</th>\n",
       "      <th>MeanSurprisalDiff</th>\n",
       "      <th>StdevSurprisalDiff</th>\n",
       "    </tr>\n",
       "  </thead>\n",
       "  <tbody>\n",
       "    <tr>\n",
       "      <th>5586</th>\n",
       "      <td>sit</td>\n",
       "      <td>1000000</td>\n",
       "      <td>15</td>\n",
       "      <td>6.399766</td>\n",
       "      <td>4.864535</td>\n",
       "      <td>0.333333</td>\n",
       "      <td>9</td>\n",
       "      <td>1.832698</td>\n",
       "      <td>0.310599</td>\n",
       "    </tr>\n",
       "    <tr>\n",
       "      <th>1459</th>\n",
       "      <td>chin</td>\n",
       "      <td>180000</td>\n",
       "      <td>33</td>\n",
       "      <td>8.215579</td>\n",
       "      <td>2.598957</td>\n",
       "      <td>0.000000</td>\n",
       "      <td>8</td>\n",
       "      <td>1.821589</td>\n",
       "      <td>0.132145</td>\n",
       "    </tr>\n",
       "    <tr>\n",
       "      <th>564</th>\n",
       "      <td>ball</td>\n",
       "      <td>500000</td>\n",
       "      <td>1</td>\n",
       "      <td>7.285607</td>\n",
       "      <td>7.719857</td>\n",
       "      <td>0.428571</td>\n",
       "      <td>28</td>\n",
       "      <td>1.643472</td>\n",
       "      <td>1.000957</td>\n",
       "    </tr>\n",
       "    <tr>\n",
       "      <th>5950</th>\n",
       "      <td>talk</td>\n",
       "      <td>100000</td>\n",
       "      <td>7</td>\n",
       "      <td>5.681591</td>\n",
       "      <td>4.063425</td>\n",
       "      <td>0.333333</td>\n",
       "      <td>9</td>\n",
       "      <td>1.592398</td>\n",
       "      <td>1.266768</td>\n",
       "    </tr>\n",
       "    <tr>\n",
       "      <th>1467</th>\n",
       "      <td>chin</td>\n",
       "      <td>900000</td>\n",
       "      <td>2</td>\n",
       "      <td>4.869381</td>\n",
       "      <td>2.738920</td>\n",
       "      <td>0.000000</td>\n",
       "      <td>8</td>\n",
       "      <td>1.532854</td>\n",
       "      <td>0.624547</td>\n",
       "    </tr>\n",
       "  </tbody>\n",
       "</table>\n",
       "</div>"
      ],
      "text/plain": [
       "     Token    Steps  MedianRank  MeanSurprisal  StdevSurprisal  Accuracy  \\\n",
       "5586   sit  1000000          15       6.399766        4.864535  0.333333   \n",
       "1459  chin   180000          33       8.215579        2.598957  0.000000   \n",
       "564   ball   500000           1       7.285607        7.719857  0.428571   \n",
       "5950  talk   100000           7       5.681591        4.063425  0.333333   \n",
       "1467  chin   900000           2       4.869381        2.738920  0.000000   \n",
       "\n",
       "      NumExamples  MeanSurprisalDiff  StdevSurprisalDiff  \n",
       "5586            9           1.832698            0.310599  \n",
       "1459            8           1.821589            0.132145  \n",
       "564            28           1.643472            1.000957  \n",
       "5950            9           1.592398            1.266768  \n",
       "1467            8           1.532854            0.624547  "
      ]
     },
     "execution_count": 140,
     "metadata": {},
     "output_type": "execute_result"
    }
   ],
   "source": [
    "bert_surprisals.loc[bert_surprisals['MeanSurprisalDiff'].nlargest(5).index]"
   ]
  },
  {
   "cell_type": "code",
   "execution_count": null,
   "metadata": {},
   "outputs": [],
   "source": [
    "# for each time step, look for the n largest and n smallest"
   ]
  },
  {
   "cell_type": "markdown",
   "metadata": {},
   "source": [
    "### Words with different POS"
   ]
  },
  {
   "cell_type": "code",
   "execution_count": 97,
   "metadata": {},
   "outputs": [],
   "source": [
    "def get_pos_tags(doc_path):\n",
    "    with open(doc_path, 'r') as file:\n",
    "        doc = file.read()\n",
    "        tokens = word_tokenize(doc)     # use spacy instead \n",
    "        tokens = [token.lower() for token in tokens if token not in string.punctuation]        \n",
    "        pos_tags = nltk.pos_tag(tokens)\n",
    "        \n",
    "        pos_dict = {}\n",
    "        for token, pos in pos_tags:\n",
    "            if token in pos_dict and not pos in pos_dict[token]:\n",
    "                pos_dict[token].append(pos)\n",
    "            else:\n",
    "                pos_dict[token] = [pos]\n",
    "        \n",
    "    return pd.DataFrame(list(pos_dict.items()), columns=['Token', 'POS'])"
   ]
  },
  {
   "cell_type": "code",
   "execution_count": 93,
   "metadata": {},
   "outputs": [
    {
     "data": {
      "text/html": [
       "<div>\n",
       "<style scoped>\n",
       "    .dataframe tbody tr th:only-of-type {\n",
       "        vertical-align: middle;\n",
       "    }\n",
       "\n",
       "    .dataframe tbody tr th {\n",
       "        vertical-align: top;\n",
       "    }\n",
       "\n",
       "    .dataframe thead th {\n",
       "        text-align: right;\n",
       "    }\n",
       "</style>\n",
       "<table border=\"1\" class=\"dataframe\">\n",
       "  <thead>\n",
       "    <tr style=\"text-align: right;\">\n",
       "      <th></th>\n",
       "      <th>Token</th>\n",
       "      <th>POS</th>\n",
       "    </tr>\n",
       "  </thead>\n",
       "  <tbody>\n",
       "    <tr>\n",
       "      <th>0</th>\n",
       "      <td>robert</td>\n",
       "      <td>[JJ, NN]</td>\n",
       "    </tr>\n",
       "    <tr>\n",
       "      <th>1</th>\n",
       "      <td>boulter</td>\n",
       "      <td>[NN]</td>\n",
       "    </tr>\n",
       "    <tr>\n",
       "      <th>2</th>\n",
       "      <td>is</td>\n",
       "      <td>[VBZ]</td>\n",
       "    </tr>\n",
       "    <tr>\n",
       "      <th>3</th>\n",
       "      <td>an</td>\n",
       "      <td>[DT]</td>\n",
       "    </tr>\n",
       "    <tr>\n",
       "      <th>4</th>\n",
       "      <td>english</td>\n",
       "      <td>[JJ]</td>\n",
       "    </tr>\n",
       "    <tr>\n",
       "      <th>...</th>\n",
       "      <td>...</td>\n",
       "      <td>...</td>\n",
       "    </tr>\n",
       "    <tr>\n",
       "      <th>18728</th>\n",
       "      <td>fatty</td>\n",
       "      <td>[JJ]</td>\n",
       "    </tr>\n",
       "    <tr>\n",
       "      <th>18729</th>\n",
       "      <td>parlayed</td>\n",
       "      <td>[VBD]</td>\n",
       "    </tr>\n",
       "    <tr>\n",
       "      <th>18730</th>\n",
       "      <td>credibility</td>\n",
       "      <td>[NN]</td>\n",
       "    </tr>\n",
       "    <tr>\n",
       "      <th>18731</th>\n",
       "      <td>ronnie</td>\n",
       "      <td>[JJ]</td>\n",
       "    </tr>\n",
       "    <tr>\n",
       "      <th>18732</th>\n",
       "      <td>pelkey</td>\n",
       "      <td>[NN]</td>\n",
       "    </tr>\n",
       "  </tbody>\n",
       "</table>\n",
       "<p>18733 rows × 2 columns</p>\n",
       "</div>"
      ],
      "text/plain": [
       "             Token       POS\n",
       "0           robert  [JJ, NN]\n",
       "1          boulter      [NN]\n",
       "2               is     [VBZ]\n",
       "3               an      [DT]\n",
       "4          english      [JJ]\n",
       "...            ...       ...\n",
       "18728        fatty      [JJ]\n",
       "18729     parlayed     [VBD]\n",
       "18730  credibility      [NN]\n",
       "18731       ronnie      [JJ]\n",
       "18732       pelkey      [NN]\n",
       "\n",
       "[18733 rows x 2 columns]"
      ]
     },
     "execution_count": 93,
     "metadata": {},
     "output_type": "execute_result"
    }
   ],
   "source": [
    "document = \"../sample_data/wikitext/wikitext103_test.txt\"\n",
    "pos_tags = get_pos_tags(document)\n",
    "pos_tags"
   ]
  },
  {
   "cell_type": "code",
   "execution_count": 113,
   "metadata": {},
   "outputs": [
    {
     "data": {
      "text/html": [
       "<div>\n",
       "<style scoped>\n",
       "    .dataframe tbody tr th:only-of-type {\n",
       "        vertical-align: middle;\n",
       "    }\n",
       "\n",
       "    .dataframe tbody tr th {\n",
       "        vertical-align: top;\n",
       "    }\n",
       "\n",
       "    .dataframe thead th {\n",
       "        text-align: right;\n",
       "    }\n",
       "</style>\n",
       "<table border=\"1\" class=\"dataframe\">\n",
       "  <thead>\n",
       "    <tr style=\"text-align: right;\">\n",
       "      <th></th>\n",
       "      <th>Token</th>\n",
       "      <th>Steps</th>\n",
       "      <th>MedianRank</th>\n",
       "      <th>MeanSurprisal</th>\n",
       "      <th>StdevSurprisal</th>\n",
       "      <th>Accuracy</th>\n",
       "      <th>NumExamples</th>\n",
       "      <th>MeanSurprisalDiff</th>\n",
       "      <th>StdevSurprisalDiff</th>\n",
       "      <th>POS</th>\n",
       "    </tr>\n",
       "  </thead>\n",
       "  <tbody>\n",
       "    <tr>\n",
       "      <th>0</th>\n",
       "      <td>a</td>\n",
       "      <td>0</td>\n",
       "      <td>3451</td>\n",
       "      <td>14.201838</td>\n",
       "      <td>0.386763</td>\n",
       "      <td>0.000000</td>\n",
       "      <td>512</td>\n",
       "      <td>0.000000</td>\n",
       "      <td>0.000000</td>\n",
       "      <td>[DT]</td>\n",
       "    </tr>\n",
       "    <tr>\n",
       "      <th>1</th>\n",
       "      <td>a</td>\n",
       "      <td>20000</td>\n",
       "      <td>0</td>\n",
       "      <td>1.452711</td>\n",
       "      <td>1.769657</td>\n",
       "      <td>0.671875</td>\n",
       "      <td>512</td>\n",
       "      <td>-12.749128</td>\n",
       "      <td>1.382895</td>\n",
       "      <td>[DT]</td>\n",
       "    </tr>\n",
       "    <tr>\n",
       "      <th>2</th>\n",
       "      <td>a</td>\n",
       "      <td>40000</td>\n",
       "      <td>0</td>\n",
       "      <td>1.050805</td>\n",
       "      <td>1.615932</td>\n",
       "      <td>0.773438</td>\n",
       "      <td>512</td>\n",
       "      <td>-0.401906</td>\n",
       "      <td>-0.153725</td>\n",
       "      <td>[DT]</td>\n",
       "    </tr>\n",
       "    <tr>\n",
       "      <th>3</th>\n",
       "      <td>a</td>\n",
       "      <td>60000</td>\n",
       "      <td>0</td>\n",
       "      <td>0.964041</td>\n",
       "      <td>1.519993</td>\n",
       "      <td>0.789062</td>\n",
       "      <td>512</td>\n",
       "      <td>-0.086764</td>\n",
       "      <td>-0.095940</td>\n",
       "      <td>[DT]</td>\n",
       "    </tr>\n",
       "    <tr>\n",
       "      <th>4</th>\n",
       "      <td>a</td>\n",
       "      <td>80000</td>\n",
       "      <td>0</td>\n",
       "      <td>0.926614</td>\n",
       "      <td>1.614722</td>\n",
       "      <td>0.787109</td>\n",
       "      <td>512</td>\n",
       "      <td>-0.037427</td>\n",
       "      <td>0.094729</td>\n",
       "      <td>[DT]</td>\n",
       "    </tr>\n",
       "    <tr>\n",
       "      <th>...</th>\n",
       "      <td>...</td>\n",
       "      <td>...</td>\n",
       "      <td>...</td>\n",
       "      <td>...</td>\n",
       "      <td>...</td>\n",
       "      <td>...</td>\n",
       "      <td>...</td>\n",
       "      <td>...</td>\n",
       "      <td>...</td>\n",
       "      <td>...</td>\n",
       "    </tr>\n",
       "    <tr>\n",
       "      <th>7129</th>\n",
       "      <td>your</td>\n",
       "      <td>1600000</td>\n",
       "      <td>1</td>\n",
       "      <td>1.894058</td>\n",
       "      <td>2.084364</td>\n",
       "      <td>0.461538</td>\n",
       "      <td>13</td>\n",
       "      <td>-0.144634</td>\n",
       "      <td>0.085364</td>\n",
       "      <td>[PRP$]</td>\n",
       "    </tr>\n",
       "    <tr>\n",
       "      <th>7130</th>\n",
       "      <td>your</td>\n",
       "      <td>1700000</td>\n",
       "      <td>0</td>\n",
       "      <td>1.733878</td>\n",
       "      <td>1.960023</td>\n",
       "      <td>0.615385</td>\n",
       "      <td>13</td>\n",
       "      <td>-0.160180</td>\n",
       "      <td>-0.124341</td>\n",
       "      <td>[PRP$]</td>\n",
       "    </tr>\n",
       "    <tr>\n",
       "      <th>7131</th>\n",
       "      <td>your</td>\n",
       "      <td>1800000</td>\n",
       "      <td>0</td>\n",
       "      <td>1.719849</td>\n",
       "      <td>2.018352</td>\n",
       "      <td>0.692308</td>\n",
       "      <td>13</td>\n",
       "      <td>-0.014029</td>\n",
       "      <td>0.058329</td>\n",
       "      <td>[PRP$]</td>\n",
       "    </tr>\n",
       "    <tr>\n",
       "      <th>7132</th>\n",
       "      <td>your</td>\n",
       "      <td>1900000</td>\n",
       "      <td>0</td>\n",
       "      <td>1.761835</td>\n",
       "      <td>2.017625</td>\n",
       "      <td>0.692308</td>\n",
       "      <td>13</td>\n",
       "      <td>0.041987</td>\n",
       "      <td>-0.000728</td>\n",
       "      <td>[PRP$]</td>\n",
       "    </tr>\n",
       "    <tr>\n",
       "      <th>7133</th>\n",
       "      <td>your</td>\n",
       "      <td>2000000</td>\n",
       "      <td>0</td>\n",
       "      <td>1.639908</td>\n",
       "      <td>1.925884</td>\n",
       "      <td>0.692308</td>\n",
       "      <td>13</td>\n",
       "      <td>-0.121928</td>\n",
       "      <td>-0.091741</td>\n",
       "      <td>[PRP$]</td>\n",
       "    </tr>\n",
       "  </tbody>\n",
       "</table>\n",
       "<p>7134 rows × 10 columns</p>\n",
       "</div>"
      ],
      "text/plain": [
       "     Token    Steps  MedianRank  MeanSurprisal  StdevSurprisal  Accuracy  \\\n",
       "0        a        0        3451      14.201838        0.386763  0.000000   \n",
       "1        a    20000           0       1.452711        1.769657  0.671875   \n",
       "2        a    40000           0       1.050805        1.615932  0.773438   \n",
       "3        a    60000           0       0.964041        1.519993  0.789062   \n",
       "4        a    80000           0       0.926614        1.614722  0.787109   \n",
       "...    ...      ...         ...            ...             ...       ...   \n",
       "7129  your  1600000           1       1.894058        2.084364  0.461538   \n",
       "7130  your  1700000           0       1.733878        1.960023  0.615385   \n",
       "7131  your  1800000           0       1.719849        2.018352  0.692308   \n",
       "7132  your  1900000           0       1.761835        2.017625  0.692308   \n",
       "7133  your  2000000           0       1.639908        1.925884  0.692308   \n",
       "\n",
       "      NumExamples  MeanSurprisalDiff  StdevSurprisalDiff     POS  \n",
       "0             512           0.000000            0.000000    [DT]  \n",
       "1             512         -12.749128            1.382895    [DT]  \n",
       "2             512          -0.401906           -0.153725    [DT]  \n",
       "3             512          -0.086764           -0.095940    [DT]  \n",
       "4             512          -0.037427            0.094729    [DT]  \n",
       "...           ...                ...                 ...     ...  \n",
       "7129           13          -0.144634            0.085364  [PRP$]  \n",
       "7130           13          -0.160180           -0.124341  [PRP$]  \n",
       "7131           13          -0.014029            0.058329  [PRP$]  \n",
       "7132           13           0.041987           -0.000728  [PRP$]  \n",
       "7133           13          -0.121928           -0.091741  [PRP$]  \n",
       "\n",
       "[7134 rows x 10 columns]"
      ]
     },
     "execution_count": 113,
     "metadata": {},
     "output_type": "execute_result"
    }
   ],
   "source": [
    "merged_df = bert_surprisals.merge(pos_tags, on='Token', how='left')\n",
    "merged_df"
   ]
  },
  {
   "cell_type": "code",
   "execution_count": 116,
   "metadata": {},
   "outputs": [
    {
     "data": {
      "text/plain": [
       "['ant', 'bat', 'cat', 'hi']"
      ]
     },
     "execution_count": 116,
     "metadata": {},
     "output_type": "execute_result"
    }
   ],
   "source": [
    "merged_df[merged_df['POS'].isna()]['Token'].drop_duplicates().tolist()\n",
    "\n",
    "# Why are there words is bert_surprisals that aren't in pos_tags, when both dfs have been created from the same document?"
   ]
  },
  {
   "cell_type": "code",
   "execution_count": 117,
   "metadata": {},
   "outputs": [
    {
     "data": {
      "text/html": [
       "<div>\n",
       "<style scoped>\n",
       "    .dataframe tbody tr th:only-of-type {\n",
       "        vertical-align: middle;\n",
       "    }\n",
       "\n",
       "    .dataframe tbody tr th {\n",
       "        vertical-align: top;\n",
       "    }\n",
       "\n",
       "    .dataframe thead th {\n",
       "        text-align: right;\n",
       "    }\n",
       "</style>\n",
       "<table border=\"1\" class=\"dataframe\">\n",
       "  <thead>\n",
       "    <tr style=\"text-align: right;\">\n",
       "      <th></th>\n",
       "      <th>Token</th>\n",
       "      <th>POS</th>\n",
       "    </tr>\n",
       "  </thead>\n",
       "  <tbody>\n",
       "  </tbody>\n",
       "</table>\n",
       "</div>"
      ],
      "text/plain": [
       "Empty DataFrame\n",
       "Columns: [Token, POS]\n",
       "Index: []"
      ]
     },
     "execution_count": 117,
     "metadata": {},
     "output_type": "execute_result"
    }
   ],
   "source": [
    "pos_tags[pos_tags['Token'] == 'hi']"
   ]
  },
  {
   "cell_type": "code",
   "execution_count": 118,
   "metadata": {},
   "outputs": [
    {
     "data": {
      "text/plain": [
       "[]"
      ]
     },
     "execution_count": 118,
     "metadata": {},
     "output_type": "execute_result"
    }
   ],
   "source": [
    "merged_df = merged_df.dropna()\n",
    "merged_df[merged_df['POS'].isna()]['Token'].drop_duplicates().tolist()"
   ]
  },
  {
   "cell_type": "code",
   "execution_count": 119,
   "metadata": {},
   "outputs": [
    {
     "data": {
      "text/plain": [
       "{'CC',\n",
       " 'DT',\n",
       " 'EX',\n",
       " 'IN',\n",
       " 'JJ',\n",
       " 'JJR',\n",
       " 'MD',\n",
       " 'NN',\n",
       " 'NNS',\n",
       " 'PRP',\n",
       " 'PRP$',\n",
       " 'RB',\n",
       " 'RP',\n",
       " 'TO',\n",
       " 'VB',\n",
       " 'VBD',\n",
       " 'VBG',\n",
       " 'VBN',\n",
       " 'VBP',\n",
       " 'VBZ',\n",
       " 'WDT',\n",
       " 'WP',\n",
       " 'WRB'}"
      ]
     },
     "execution_count": 119,
     "metadata": {},
     "output_type": "execute_result"
    }
   ],
   "source": [
    "all_pos_tags = [pos for pos_list in merged_df['POS'] if isinstance(pos_list, list) for pos in pos_list]\n",
    "set(all_pos_tags)"
   ]
  },
  {
   "cell_type": "code",
   "execution_count": 120,
   "metadata": {},
   "outputs": [
    {
     "data": {
      "image/png": "[encoded data removed]",
      "text/plain": [
       "<Figure size 648x432 with 6 Axes>"
      ]
     },
     "metadata": {},
     "output_type": "display_data"
    }
   ],
   "source": [
    "exclusive_NN = merged_df[merged_df['POS'].apply(lambda pos_list: 'NN' in pos_list and 'VB' not in pos_list)]\n",
    "exclusive_VB = merged_df[merged_df['POS'].apply(lambda pos_list: 'VB' in pos_list and 'NN' not in pos_list)]\n",
    "\n",
    "plot_surprisals(\n",
    "    exclusive_NN['Token'].drop_duplicates().sample(3).tolist() + exclusive_VB['Token'].drop_duplicates().sample(3).tolist(), \n",
    "    merged_df\n",
    "    )"
   ]
  },
  {
   "cell_type": "code",
   "execution_count": 136,
   "metadata": {},
   "outputs": [
    {
     "data": {
      "text/plain": [
       "(7.5, 3.60816396754465)"
      ]
     },
     "execution_count": 136,
     "metadata": {},
     "output_type": "execute_result"
    },
    {
     "data": {
      "image/png": "[encoded data removed]",
      "text/plain": [
       "<Figure size 432x288 with 1 Axes>"
      ]
     },
     "metadata": {},
     "output_type": "display_data"
    },
    {
     "data": {
      "image/png": "[encoded data removed]",
      "text/plain": [
       "<Figure size 432x288 with 1 Axes>"
      ]
     },
     "metadata": {},
     "output_type": "display_data"
    }
   ],
   "source": [
    "# for each step, average surprisal across all words with 'NN' tag vs average surprisal across all words with 'VB' tag\n",
    "\n",
    "NN_avg_surprisals = exclusive_NN.groupby('Steps')['MeanSurprisal'].mean().reset_index()\n",
    "NN_avg_surprisals.plot(x='Steps', y='MeanSurprisal', logx=True).set_ylim(7.5, avg_surprisals['MeanSurprisal'].min())\n",
    "\n",
    "VB_avg_surprisals = exclusive_VB.groupby('Steps')['MeanSurprisal'].mean().reset_index()\n",
    "VB_avg_surprisals.plot(x='Steps', y='MeanSurprisal', logx=True).set_ylim(7.5, avg_surprisals['MeanSurprisal'].min())"
   ]
  }
 ],
 "metadata": {
  "kernelspec": {
   "display_name": "Python 3",
   "language": "python",
   "name": "python3"
  },
  "language_info": {
   "codemirror_mode": {
    "name": "ipython",
    "version": 3
   },
   "file_extension": ".py",
   "mimetype": "text/x-python",
   "name": "python",
   "nbconvert_exporter": "python",
   "pygments_lexer": "ipython3",
   "version": "3.6.8"
  }
 },
 "nbformat": 4,
 "nbformat_minor": 2
}
